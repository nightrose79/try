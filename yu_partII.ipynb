{
 "cells": [
  {
   "cell_type": "markdown",
   "metadata": {},
   "source": [
    "### I. Import Various Libraries, Read in data and Remove Data Errors"
   ]
  },
  {
   "cell_type": "code",
   "execution_count": 149,
   "metadata": {
    "collapsed": false
   },
   "outputs": [],
   "source": [
    "import time\n",
    "import pandas as pd\n",
    "from datetime import datetime,timedelta\n",
    "import numpy as np\n",
    "from dateutil.parser import parse\n",
    "import matplotlib.pyplot as plt \n",
    "import matplotlib.dates as dates\n",
    "from matplotlib.dates import MonthLocator, WeekdayLocator, DateFormatter\n",
    "import matplotlib.ticker as ticker\n",
    "from matplotlib.finance import candlestick2_ohlc\n",
    "import plotly.plotly as py\n",
    "from plotly.tools import FigureFactory as FF\n",
    "%matplotlib inline"
   ]
  },
  {
   "cell_type": "code",
   "execution_count": 8,
   "metadata": {
    "collapsed": false
   },
   "outputs": [
    {
     "data": {
      "text/html": [
       "<div>\n",
       "<table border=\"1\" class=\"dataframe\">\n",
       "  <thead>\n",
       "    <tr style=\"text-align: right;\">\n",
       "      <th></th>\n",
       "      <th>timestamp</th>\n",
       "      <th>price</th>\n",
       "    </tr>\n",
       "  </thead>\n",
       "  <tbody>\n",
       "    <tr>\n",
       "      <th>0</th>\n",
       "      <td>1990-01-08 15:32:00</td>\n",
       "      <td>411.25</td>\n",
       "    </tr>\n",
       "    <tr>\n",
       "      <th>1</th>\n",
       "      <td>1990-01-08 15:33:00</td>\n",
       "      <td>411.25</td>\n",
       "    </tr>\n",
       "    <tr>\n",
       "      <th>2</th>\n",
       "      <td>1990-01-08 15:34:00</td>\n",
       "      <td>411.75</td>\n",
       "    </tr>\n",
       "    <tr>\n",
       "      <th>3</th>\n",
       "      <td>1990-01-08 15:35:00</td>\n",
       "      <td>411.50</td>\n",
       "    </tr>\n",
       "    <tr>\n",
       "      <th>4</th>\n",
       "      <td>1990-01-08 15:36:00</td>\n",
       "      <td>411.50</td>\n",
       "    </tr>\n",
       "  </tbody>\n",
       "</table>\n",
       "</div>"
      ],
      "text/plain": [
       "             timestamp   price\n",
       "0  1990-01-08 15:32:00  411.25\n",
       "1  1990-01-08 15:33:00  411.25\n",
       "2  1990-01-08 15:34:00  411.75\n",
       "3  1990-01-08 15:35:00  411.50\n",
       "4  1990-01-08 15:36:00  411.50"
      ]
     },
     "execution_count": 8,
     "metadata": {},
     "output_type": "execute_result"
    }
   ],
   "source": [
    "df=pd.read_csv('C:/Users/Yu Yu/Documents/career/finance/test/cubist_project/data.1_min.csv',header=None,names=('timestamp','price'))\n",
    "df.head()"
   ]
  },
  {
   "cell_type": "code",
   "execution_count": 24,
   "metadata": {
    "collapsed": false
   },
   "outputs": [],
   "source": [
    "df=df.set_index('timestamp')"
   ]
  },
  {
   "cell_type": "code",
   "execution_count": 27,
   "metadata": {
    "collapsed": false
   },
   "outputs": [
    {
     "data": {
      "text/plain": [
       "<matplotlib.axes._subplots.AxesSubplot at 0x306afe48>"
      ]
     },
     "execution_count": 27,
     "metadata": {},
     "output_type": "execute_result"
    },
    {
     "data": {
      "image/png": "[encoded data removed]",
      "text/plain": [
       "<matplotlib.figure.Figure at 0x154df748>"
      ]
     },
     "metadata": {},
     "output_type": "display_data"
    }
   ],
   "source": [
    "#plotting it along time line, found an outlier\n",
    "df.plot()"
   ]
  },
  {
   "cell_type": "code",
   "execution_count": 36,
   "metadata": {
    "collapsed": false
   },
   "outputs": [],
   "source": [
    "#replace the price point with price in the previous minute. \n",
    "temp=df[df['price']>5000].index\n",
    "df.ix[temp,'price']=df.ix[temp-timedelta(minutes = 1),'price']"
   ]
  },
  {
   "cell_type": "code",
   "execution_count": 37,
   "metadata": {
    "collapsed": false
   },
   "outputs": [
    {
     "data": {
      "text/plain": [
       "<matplotlib.axes._subplots.AxesSubplot at 0x3660b518>"
      ]
     },
     "execution_count": 37,
     "metadata": {},
     "output_type": "execute_result"
    },
    {
     "data": {
      "image/png": "[encoded data removed]",
      "text/plain": [
       "<matplotlib.figure.Figure at 0x306af908>"
      ]
     },
     "metadata": {},
     "output_type": "display_data"
    }
   ],
   "source": [
    "#check to see whether outliers are all removed\n",
    "df.plot()"
   ]
  },
  {
   "cell_type": "code",
   "execution_count": 38,
   "metadata": {
    "collapsed": false
   },
   "outputs": [
    {
     "data": {
      "text/plain": [
       "True"
      ]
     },
     "execution_count": 38,
     "metadata": {},
     "output_type": "execute_result"
    }
   ],
   "source": [
    "#check for duplications\n",
    "df.index.is_unique"
   ]
  },
  {
   "cell_type": "code",
   "execution_count": 41,
   "metadata": {
    "collapsed": false
   },
   "outputs": [
    {
     "data": {
      "text/html": [
       "<div>\n",
       "<table border=\"1\" class=\"dataframe\">\n",
       "  <thead>\n",
       "    <tr>\n",
       "      <th></th>\n",
       "      <th colspan=\"4\" halign=\"left\">price</th>\n",
       "    </tr>\n",
       "    <tr>\n",
       "      <th></th>\n",
       "      <th>open</th>\n",
       "      <th>high</th>\n",
       "      <th>low</th>\n",
       "      <th>close</th>\n",
       "    </tr>\n",
       "    <tr>\n",
       "      <th>timestamp</th>\n",
       "      <th></th>\n",
       "      <th></th>\n",
       "      <th></th>\n",
       "      <th></th>\n",
       "    </tr>\n",
       "  </thead>\n",
       "  <tbody>\n",
       "    <tr>\n",
       "      <th>1990-01-08</th>\n",
       "      <td>411.25</td>\n",
       "      <td>412.00</td>\n",
       "      <td>410.00</td>\n",
       "      <td>410.00</td>\n",
       "    </tr>\n",
       "    <tr>\n",
       "      <th>1990-01-09</th>\n",
       "      <td>408.25</td>\n",
       "      <td>408.50</td>\n",
       "      <td>406.25</td>\n",
       "      <td>406.75</td>\n",
       "    </tr>\n",
       "    <tr>\n",
       "      <th>1990-01-10</th>\n",
       "      <td>406.00</td>\n",
       "      <td>406.25</td>\n",
       "      <td>403.25</td>\n",
       "      <td>405.50</td>\n",
       "    </tr>\n",
       "    <tr>\n",
       "      <th>1990-01-11</th>\n",
       "      <td>406.75</td>\n",
       "      <td>407.00</td>\n",
       "      <td>403.25</td>\n",
       "      <td>404.50</td>\n",
       "    </tr>\n",
       "    <tr>\n",
       "      <th>1990-01-12</th>\n",
       "      <td>406.75</td>\n",
       "      <td>406.75</td>\n",
       "      <td>400.75</td>\n",
       "      <td>402.00</td>\n",
       "    </tr>\n",
       "  </tbody>\n",
       "</table>\n",
       "</div>"
      ],
      "text/plain": [
       "             price                        \n",
       "              open    high     low   close\n",
       "timestamp                                 \n",
       "1990-01-08  411.25  412.00  410.00  410.00\n",
       "1990-01-09  408.25  408.50  406.25  406.75\n",
       "1990-01-10  406.00  406.25  403.25  405.50\n",
       "1990-01-11  406.75  407.00  403.25  404.50\n",
       "1990-01-12  406.75  406.75  400.75  402.00"
      ]
     },
     "execution_count": 41,
     "metadata": {},
     "output_type": "execute_result"
    }
   ],
   "source": [
    "df_daily=df.resample('D',how='ohlc')\n",
    "df_daily.head()"
   ]
  },
  {
   "cell_type": "code",
   "execution_count": 189,
   "metadata": {
    "collapsed": false
   },
   "outputs": [],
   "source": [
    "o=df_daily['price']['open']\n",
    "c=df_daily['price']['close']\n",
    "h=df_daily['price']['high']\n",
    "l=df_daily['price']['low']\n",
    "#d=df_daily.index[0:50].strftime('%Y-%m-%d').reshape(50,1)\n",
    "#d=df_daily.index[0:50].strftime('%Y-%m-%d').reshape(50,1)\n",
    "#quote=np.concatenate((d,o,c,h,l,np.zeros(50).reshape(50,1)),axis=1)\n",
    "a=range(len(df_daily.index))\n",
    "new=[]\n",
    "for i in a:\n",
    "    if i%365==0:\n",
    "      new.append(i)  \n",
    "x=df_daily.index.strftime('%Y')"
   ]
  },
  {
   "cell_type": "code",
   "execution_count": 190,
   "metadata": {
    "collapsed": false,
    "scrolled": true
   },
   "outputs": [
    {
     "data": {
      "image/png": "[encoded data removed]",
      "text/plain": [
       "<matplotlib.figure.Figure at 0xbd7492e8>"
      ]
     },
     "metadata": {},
     "output_type": "display_data"
    }
   ],
   "source": [
    "fig = plt.figure(figsize=(18,4))\n",
    "ax1 = plt.subplot(1,1,1)\n",
    "# every 3rd month\n",
    "#months = MonthLocator(df_daily.index[0:10], bymonthday=1, interval=1)\n",
    "#monthsFmt = DateFormatter(\"%b '%y\")\n",
    "#ax1.xaxis.set_major_locator(months)\n",
    "#ax1.xaxis.set_major_formatter(monthsFmt)\n",
    "plt.ylabel('Price')\n",
    "plt.xlabel('Date')\n",
    "plt.xticks(new,x[new], rotation=45)\n",
    "candlestick2_ohlc(ax1,o,h,l,c,width=1,colorup='k',colordown='r')\n",
    "ax1.autoscale_view()\n",
    "fig.autofmt_xdate()"
   ]
  }
 ],
 "metadata": {
  "kernelspec": {
   "display_name": "Python 2",
   "language": "python",
   "name": "python2"
  },
  "language_info": {
   "codemirror_mode": {
    "name": "ipython",
    "version": 2
   },
   "file_extension": ".py",
   "mimetype": "text/x-python",
   "name": "python",
   "nbconvert_exporter": "python",
   "pygments_lexer": "ipython2",
   "version": "2.7.11"
  }
 },
 "nbformat": 4,
 "nbformat_minor": 0
}
