{
 "cells": [
  {
   "cell_type": "markdown",
   "metadata": {},
   "source": [
    "### I. Import Various Libraries, Read in data and Remove Data Errors"
   ]
  },
  {
   "cell_type": "code",
   "execution_count": 6,
   "metadata": {
    "collapsed": false,
    "scrolled": true
   },
   "outputs": [],
   "source": [
    "import talib\n",
    "import zipline\n",
    "import time\n",
    "import pandas as pd\n",
    "from datetime import datetime,timedelta\n",
    "import statsmodels.api as sm\n",
    "import numpy as np\n",
    "from dateutil.parser import parse\n",
    "import matplotlib.pyplot as plt \n",
    "import matplotlib.dates as dates\n",
    "from matplotlib.dates import MonthLocator, WeekdayLocator, DateFormatter\n",
    "import matplotlib.ticker as ticker\n",
    "from matplotlib.finance import candlestick2_ohlc\n",
    "import plotly.plotly as py\n",
    "from sklearn import linear_model,svm,ensemble,cross_validation,grid_search,metrics,kernel_ridge\n",
    "from plotly.tools import FigureFactory as FF\n",
    "\n",
    "%matplotlib inline"
   ]
  },
  {
   "cell_type": "code",
   "execution_count": 7,
   "metadata": {
    "collapsed": false
   },
   "outputs": [
    {
     "data": {
      "text/plain": [
       "[<matplotlib.lines.Line2D at 0x7f83bbf45950>]"
      ]
     },
     "execution_count": 7,
     "metadata": {},
     "output_type": "execute_result"
    },
    {
     "data": {
      "image/png": "[encoded data removed]",
      "text/plain": [
       "<matplotlib.figure.Figure at 0x7f83bc18fe10>"
      ]
     },
     "metadata": {},
     "output_type": "display_data"
    }
   ],
   "source": [
    "#test talib\n",
    "close = np.random.random(100)\n",
    "output = talib.SMA(close)\n",
    "plt.plot(output)"
   ]
  },
  {
   "cell_type": "code",
   "execution_count": 8,
   "metadata": {
    "collapsed": false
   },
   "outputs": [
    {
     "data": {
      "text/html": [
       "<div>\n",
       "<table border=\"1\" class=\"dataframe\">\n",
       "  <thead>\n",
       "    <tr style=\"text-align: right;\">\n",
       "      <th></th>\n",
       "      <th>time</th>\n",
       "      <th>price</th>\n",
       "    </tr>\n",
       "  </thead>\n",
       "  <tbody>\n",
       "    <tr>\n",
       "      <th>0</th>\n",
       "      <td>1990-01-08 15:32:00</td>\n",
       "      <td>411.25</td>\n",
       "    </tr>\n",
       "    <tr>\n",
       "      <th>1</th>\n",
       "      <td>1990-01-08 15:33:00</td>\n",
       "      <td>411.25</td>\n",
       "    </tr>\n",
       "    <tr>\n",
       "      <th>2</th>\n",
       "      <td>1990-01-08 15:34:00</td>\n",
       "      <td>411.75</td>\n",
       "    </tr>\n",
       "    <tr>\n",
       "      <th>3</th>\n",
       "      <td>1990-01-08 15:35:00</td>\n",
       "      <td>411.50</td>\n",
       "    </tr>\n",
       "    <tr>\n",
       "      <th>4</th>\n",
       "      <td>1990-01-08 15:36:00</td>\n",
       "      <td>411.50</td>\n",
       "    </tr>\n",
       "  </tbody>\n",
       "</table>\n",
       "</div>"
      ],
      "text/plain": [
       "                  time   price\n",
       "0  1990-01-08 15:32:00  411.25\n",
       "1  1990-01-08 15:33:00  411.25\n",
       "2  1990-01-08 15:34:00  411.75\n",
       "3  1990-01-08 15:35:00  411.50\n",
       "4  1990-01-08 15:36:00  411.50"
      ]
     },
     "execution_count": 8,
     "metadata": {},
     "output_type": "execute_result"
    }
   ],
   "source": [
    "df=pd.read_csv('/home/nightrose/Documents/Github/try/xyz/data.1_min.csv',header=None,names=('time','price'))\n",
    "df.head()"
   ]
  },
  {
   "cell_type": "code",
   "execution_count": 9,
   "metadata": {
    "collapsed": false
   },
   "outputs": [],
   "source": [
    "df.time=[datetime.strptime(x,'%Y-%m-%d %H:%M:%S') for x in df.time]"
   ]
  },
  {
   "cell_type": "code",
   "execution_count": null,
   "metadata": {
    "collapsed": false
   },
   "outputs": [],
   "source": [
    "type(df.time[0])"
   ]
  },
  {
   "cell_type": "code",
   "execution_count": null,
   "metadata": {
    "collapsed": false
   },
   "outputs": [],
   "source": [
    "df=df.set_index('time')"
   ]
  },
  {
   "cell_type": "code",
   "execution_count": null,
   "metadata": {
    "collapsed": false
   },
   "outputs": [],
   "source": [
    "#plotting it along time line, found an outlier\n",
    "df.plot()"
   ]
  },
  {
   "cell_type": "code",
   "execution_count": null,
   "metadata": {
    "collapsed": false
   },
   "outputs": [],
   "source": [
    "#replace the price point with price in the previous minute. \n",
    "temp=df[df['price']>5000].index\n",
    "df.loc[temp,'price']=df.loc[temp+timedelta(minutes=1),'price']"
   ]
  },
  {
   "cell_type": "code",
   "execution_count": null,
   "metadata": {
    "collapsed": false
   },
   "outputs": [],
   "source": [
    "#check to see whether outliers are all removed\n",
    "df.plot()"
   ]
  },
  {
   "cell_type": "code",
   "execution_count": null,
   "metadata": {
    "collapsed": false
   },
   "outputs": [],
   "source": [
    "#check for duplications\n",
    "df.index.is_unique"
   ]
  },
  {
   "cell_type": "code",
   "execution_count": null,
   "metadata": {
    "collapsed": false
   },
   "outputs": [],
   "source": [
    "df_daily=df.resample('B',how='ohlc')\n",
    "df_daily.head(10)\n",
    "df_daily.dropna(how='any',axis=0,inplace=True)"
   ]
  },
  {
   "cell_type": "code",
   "execution_count": null,
   "metadata": {
    "collapsed": false
   },
   "outputs": [],
   "source": [
    "o=df_daily['price']['open']\n",
    "c=df_daily['price']['close']\n",
    "h=df_daily['price']['high']\n",
    "l=df_daily['price']['low']\n",
    "a=range(len(df_daily.index))\n",
    "new=[]\n",
    "for i in a:\n",
    "    if i%365==0:\n",
    "      new.append(i)  \n",
    "x=df_daily.index.strftime('%Y')"
   ]
  },
  {
   "cell_type": "code",
   "execution_count": null,
   "metadata": {
    "collapsed": false,
    "scrolled": true
   },
   "outputs": [],
   "source": [
    "fig = plt.figure(figsize=(18,4))\n",
    "ax1 = plt.subplot(1,1,1)\n",
    "plt.ylabel('Price')\n",
    "plt.xlabel('Date')\n",
    "plt.xticks(new,x[new], rotation=45)\n",
    "candlestick2_ohlc(ax1,o,h,l,c,width=1,colorup='k',colordown='r')\n",
    "ax1.autoscale_view()\n",
    "fig.autofmt_xdate()"
   ]
  },
  {
   "cell_type": "code",
   "execution_count": null,
   "metadata": {
    "collapsed": false
   },
   "outputs": [],
   "source": [
    "df_daily['log_returns_close']= np.log(df_daily['price']['close']) - np.log(df_daily['price']['close'].shift(1))\n",
    "df_daily['log_returns_open']= np.log(df_daily['price']['open']) - np.log(df_daily['price']['open'].shift(1))\n",
    "df_daily['log_returns_high']= np.log(df_daily['price']['high']) - np.log(df_daily['price']['high'].shift(1))\n",
    "df_daily['log_returns_low']= np.log(df_daily['price']['low']) - np.log(df_daily['price']['low'].shift(1))"
   ]
  },
  {
   "cell_type": "code",
   "execution_count": null,
   "metadata": {
    "collapsed": false
   },
   "outputs": [],
   "source": [
    "df_daily.drop(df_daily.head(1).index,inplace=True)"
   ]
  },
  {
   "cell_type": "code",
   "execution_count": null,
   "metadata": {
    "collapsed": false
   },
   "outputs": [],
   "source": [
    "df_daily.head(10)"
   ]
  },
  {
   "cell_type": "code",
   "execution_count": null,
   "metadata": {
    "collapsed": false
   },
   "outputs": [],
   "source": [
    "df_daily['log_returns_close'].plot()"
   ]
  },
  {
   "cell_type": "code",
   "execution_count": null,
   "metadata": {
    "collapsed": false
   },
   "outputs": [],
   "source": [
    "fig=plt.figure(figsize=(18,4))\n",
    "fig.suptitle('Security Daily Returns',y=1.05,fontsize=20)\n",
    "ax1 = fig.add_subplot(131)\n",
    "ax1=plt.hist(df_daily['log_returns_close'])\n",
    "ax2=fig.add_subplot(132)\n",
    "ax2=sm.graphics.tsa.plot_acf(df_daily['log_returns_close'],lags=30,ax=ax2)\n",
    "ax3=fig.add_subplot(133)\n",
    "ax3=sm.graphics.tsa.plot_pacf(df_daily['log_returns_close'],lags=30,ax=ax3)\n"
   ]
  },
  {
   "cell_type": "code",
   "execution_count": null,
   "metadata": {
    "collapsed": false
   },
   "outputs": [],
   "source": [
    "fig=plt.figure(figsize=(18,18))\n",
    "ax1=fig.add_subplot(311)\n",
    "ax1.set_title('30 day moving average',fontsize=16)\n",
    "ax1=pd.rolling_mean(df_daily['log_returns_close'],30).plot()\n",
    "ax1=plt.axhline(y=0,color='black')\n",
    "\n",
    "ax2=fig.add_subplot(312)\n",
    "ax2.set_title('60 day moving average',fontsize=16)\n",
    "ax2=pd.rolling_mean(df_daily['log_returns_close'],60).plot()\n",
    "ax2=plt.axhline(y=0,color='black')\n",
    "\n",
    "ax3=fig.add_subplot(313)\n",
    "ax3.set_title('30 day rolling standard deviation',fontsize=16)\n",
    "ax3=pd.rolling_std(df_daily['log_returns_close'],60).plot()"
   ]
  },
  {
   "cell_type": "markdown",
   "metadata": {},
   "source": [
    "It seems that the volativity increased over time and that should be incorporated into the model building. "
   ]
  },
  {
   "cell_type": "code",
   "execution_count": null,
   "metadata": {
    "collapsed": false
   },
   "outputs": [],
   "source": [
    "#look at within day price variations\n",
    "df.tail()"
   ]
  },
  {
   "cell_type": "markdown",
   "metadata": {},
   "source": [
    "check the last several days minute by minute patterns"
   ]
  },
  {
   "cell_type": "markdown",
   "metadata": {},
   "source": [
    "## Explore minute by minute returns"
   ]
  },
  {
   "cell_type": "code",
   "execution_count": null,
   "metadata": {
    "collapsed": false
   },
   "outputs": [],
   "source": [
    "start = '01/10/1990'\n",
    "end = '02/10/1990'\n",
    "df_last=df[start:end]\n",
    "df_last.plot()"
   ]
  },
  {
   "cell_type": "code",
   "execution_count": null,
   "metadata": {
    "collapsed": false
   },
   "outputs": [],
   "source": [
    "df_last.loc[:,'log_returns_min']= np.log(df_last.loc[:,'price']) - np.log(df_last.loc[:,'price'].shift(1))\n",
    "df_last.drop(df_last.head(1).index,inplace=True)\n",
    "df_last['log_returns_min'].plot()"
   ]
  },
  {
   "cell_type": "code",
   "execution_count": null,
   "metadata": {
    "collapsed": false
   },
   "outputs": [],
   "source": [
    "#df_last.ix['1990-01-10 19:00:00':'1990-01-11 16:00:00', 'log_returns_min']"
   ]
  },
  {
   "cell_type": "code",
   "execution_count": null,
   "metadata": {
    "collapsed": false
   },
   "outputs": [],
   "source": [
    "df_last['log_returns_min'].describe()"
   ]
  },
  {
   "cell_type": "code",
   "execution_count": null,
   "metadata": {
    "collapsed": false
   },
   "outputs": [],
   "source": [
    "fig=plt.figure(figsize=(18,4))\n",
    "fig.suptitle('Minute by Minute Returns from %s to %s'%(start,end),y=1.05,fontsize=20)\n",
    "ax1 = fig.add_subplot(131)\n",
    "ax1=plt.hist(df_last['log_returns_min'])\n",
    "ax2=fig.add_subplot(132)\n",
    "#ax2=sm.graphics.tsa.plot_acf(df_last['log_returns_min'],lags=30,ax=ax2)\n",
    "ax2=sm.graphics.tsa.plot_acf(df_last['log_returns_min'],lags=10,ax=ax2)\n",
    "ax3=fig.add_subplot(133)\n",
    "ax3=sm.graphics.tsa.plot_pacf(df_last['log_returns_min'],lags=30,ax=ax3)"
   ]
  },
  {
   "cell_type": "code",
   "execution_count": null,
   "metadata": {
    "collapsed": false
   },
   "outputs": [],
   "source": [
    "ACF0=sm.tsa.stattools.acf(df_last['log_returns_min'], nlags=14)\n",
    "#ACF0.plot()\n",
    "plt.bar(np.arange(14),ACF0[1:15])"
   ]
  },
  {
   "cell_type": "code",
   "execution_count": null,
   "metadata": {
    "collapsed": false
   },
   "outputs": [],
   "source": [
    "window=500\n",
    "aa=pd.rolling_corr(df_last['log_returns_min'],df_last['log_returns_min'].shift(1),window)\n",
    "\n",
    "fig=plt.figure(figsize=(18,6))\n",
    "fig.suptitle('Minute by Minute Returns Rolling Correlation ( %s minutes)' %(window),y=1.05,fontsize=20)\n",
    "ax1 = fig.add_subplot(121)\n",
    "ax1=plt.hist(aa.ix[window:])\n",
    "ax1=plt.axvline(x=0,color='black')\n",
    "ax2=fig.add_subplot(122)\n",
    "ax2=aa.plot()\n",
    "ax2=plt.axhline(y=0,color='black')"
   ]
  },
  {
   "cell_type": "code",
   "execution_count": null,
   "metadata": {
    "collapsed": false
   },
   "outputs": [],
   "source": [
    "minute_lag=np.zeros((len(df_last),7))\n",
    "for i in range(0,7):\n",
    "    minute_lag[:,i]=df_last['log_returns_min'].shift(i+1)\n",
    "dd=pd.DataFrame(minute_lag)\n",
    "dd.columns=['min_lg1','min_lg2','min_lg3','min_lg4','min_lg5','min_lg6','min_lg7']\n",
    "dd=dd.set_index(df_last.index)\n",
    "dd_minute=pd.merge(df_last,dd, left_index=True, right_index=True)\n",
    "f=dd_minute.corr()[[1]]\n",
    "f[2:]"
   ]
  },
  {
   "cell_type": "code",
   "execution_count": null,
   "metadata": {
    "collapsed": false
   },
   "outputs": [],
   "source": [
    "dd_minute['Rolling_Std_5'] = pd.rolling_std(dd_minute[['price']],window=5)\n",
    "dd_minute['Rolling_Std_25'] = pd.rolling_std(dd_minute[['price']],window=25)\n",
    "dd_minute['Rolling_Std_50'] = pd.rolling_std(dd_minute[['price']],window=50)\n",
    "dd_minute['Rolling_Std_150'] = pd.rolling_std(dd_minute[['price']],window=150)\n",
    "dd_minute.corr()"
   ]
  },
  {
   "cell_type": "code",
   "execution_count": null,
   "metadata": {
    "collapsed": false
   },
   "outputs": [],
   "source": [
    "#total sample\n",
    "#X_1=dd_minute[151:].drop(['price', 'log_returns_min'], axis=1).as_matrix()\n",
    "X_1=dd_minute[151:][['min_lg1','Rolling_Std_5']].as_matrix()\n",
    "y_1=dd_minute[151:]['log_returns_min'].as_matrix()\n",
    "y_1.shape"
   ]
  },
  {
   "cell_type": "code",
   "execution_count": null,
   "metadata": {
    "collapsed": false
   },
   "outputs": [],
   "source": [
    "ss=len(y_1)\n",
    "sz=ss/10\n",
    "if ss%10==0:\n",
    "    pass\n",
    "else: \n",
    "    sz=round(sz)\n",
    "#Testing sets\n",
    "X_1_test=X_1[-sz:,:] #keep the last 3074 minutes as testing\n",
    "y_1_test=y_1[-sz:]\n",
    "\n",
    "#Training sets\n",
    "X_1_training=X_1[:-sz,:] #keep the last 3074 minutes as testing\n",
    "y_1_training=y_1[:-sz]"
   ]
  },
  {
   "cell_type": "code",
   "execution_count": null,
   "metadata": {
    "collapsed": false
   },
   "outputs": [],
   "source": [
    "regr = linear_model.LinearRegression()\n",
    "    # Train the model using the training sets\n",
    "regr.fit(X_1_training, y_1_training)\n",
    "pred=regr.predict(X_1_test)\n",
    "#ab=pd.merge(pd.DataFrame(pred),pd.DataFrame(y_1_test))\n",
    "#np.concatenate((pred.T,y_1_test.T),axis=1)\n",
    "#ab\n",
    "plt.plot(pred,color='red')\n",
    "plt.plot(y_1_test,color='blue')\n",
    "np.corrcoef(pred,y_1_test)\n",
    "a=pred>0\n",
    "b=y_1_test>0\n",
    "print np.sum(a==b)\n",
    "print (len(pred))\n",
    "from __future__ import division\n",
    "159/264\n",
    "#print('R^2: %.2f' % regr.score(X_1_test,  y_1_test))\n",
    "std_true=np.std(y_1_test)\n",
    "std_est=np.std(pred)\n",
    "\n",
    "rss=np.mean((pred/std_est*std_true-y_1_test)**2)\n",
    "mn=np.mean(y_1_test)\n",
    "tss=np.mean((y_1_test-mn)**2)\n",
    "\n",
    "print(\"rss is %s, tss is %s\" % (rss,tss))\n",
    "print(\"R^2 is %s\" % ((tss-rss)/tss))\n",
    "#rss=np.mean((pred - y_1_test) ** 2)\n",
    "#print(\"Residual sum of squares: %.2f\" % rss)"
   ]
  },
  {
   "cell_type": "code",
   "execution_count": null,
   "metadata": {
    "collapsed": true
   },
   "outputs": [],
   "source": [
    "columns=['Model','R^2','Residual sum of squares','Best Parameters','Data_Range']\n",
    "model_comparison=pd.DataFrame(columns=columns)"
   ]
  },
  {
   "cell_type": "code",
   "execution_count": null,
   "metadata": {
    "collapsed": true
   },
   "outputs": [],
   "source": [
    "def linear_version(X_tr,y_tr,X_te,y_te):\n",
    "    # Create linear regression object\n",
    "    regr = linear_model.LinearRegression()\n",
    "    # Train the model using the training sets\n",
    "    regr.fit(X_tr, y_tr)\n",
    "    rss=np.mean((regr.predict(X_te) - y_te) ** 2)\n",
    "    print(\"Residual sum of squares: %.2f\" % rss)\n",
    "    print('R^2: %.2f' % regr.score(X_te,  y_te))\n",
    "    return (regr.score(X_te,  y_te),rss,regr.coef_)"
   ]
  },
  {
   "cell_type": "code",
   "execution_count": null,
   "metadata": {
    "collapsed": false
   },
   "outputs": [],
   "source": [
    "R_2,Rss,Param=linear_version(X_1_training,y_1_training,X_1_test,y_1_test)\n",
    "model_comparison = model_comparison.append({'Model':'linear', 'R^2': R_2,'Residual sum of squares':Rss,\n",
    "                                            'Best Parameters': Param,'Data_Range':1},ignore_index=True)"
   ]
  },
  {
   "cell_type": "code",
   "execution_count": null,
   "metadata": {
    "collapsed": false
   },
   "outputs": [],
   "source": [
    "class TimeSeriesCV():\n",
    "    def __init__(self,n,fold):\n",
    "        self.n=n\n",
    "        self.fold=fold\n",
    "    def __iter__(self):\n",
    "        if self.n<(self.fold+1):\n",
    "            print(\"too many folds\")\n",
    "        m=self.n%(self.fold+1)\n",
    "        chunk=np.arange(self.n)#entire series\n",
    "        size=(self.n-m)/(self.fold+1)#size of each fold, size of the first fold is size+m\n",
    "        for i in np.arange(self.fold):\n",
    "            train_index = chunk[0:(size*(i+1)+m)]\n",
    "            test_index = chunk[(size*(i+1)+m):(size*(i+2)+m)]\n",
    "            yield train_index, test_index\n",
    "    def __len__(self):\n",
    "        return self.fold "
   ]
  },
  {
   "cell_type": "code",
   "execution_count": null,
   "metadata": {
    "collapsed": true
   },
   "outputs": [],
   "source": [
    "def kernel_ridge_version(X_tr,y_tr,X_te,y_te,f):\n",
    "    # Create linear regression object\n",
    "\n",
    "    tuned_parameters = [{'kernel':['linear'],'alpha': [0.001,0.05,0.01,0.1,1]},\n",
    "                         {'kernel':['rbf'],'alpha':[0.001,0.05,0.01,0.1,1],'gamma':[0.1,1,10,100,500]}]\n",
    "    print(\"# Tuning hyper-parameters\")\n",
    "    clf = grid_search.GridSearchCV(kernel_ridge.KernelRidge(alpha=1, coef0=1, degree=3, gamma=None, kernel='linear',\n",
    "            kernel_params=None), tuned_parameters, cv=TimeSeriesCV(len(y_tr),fold=f),n_jobs=-1)\n",
    "    clf.fit(X_tr, y_tr)\n",
    "    print(\"Best parameters set found on development set:\")\n",
    "    print(clf.best_params_)\n",
    "    print(\"Grid scores on development set:\")\n",
    "    for params, mean_score, scores in clf.grid_scores_:\n",
    "        print(\"%0.3f (+/-%0.03f) for %r\"\n",
    "              % (mean_score, scores.std() * 2, params))\n",
    "\n",
    "    print(\"The model is trained on the full development set.\")\n",
    "    print(\"The scores are computed on the full evaluation set.\")\n",
    "    print('R^2: %.2f' % clf.score(X_te,  y_te))\n",
    "    rss=np.mean((clf.predict(X_te) - y_te) ** 2)\n",
    "    print(\"Residual sum of squares: %.2f\" % rss)\n",
    "    return (clf.score(X_te,  y_te),rss,clf.best_params_)"
   ]
  },
  {
   "cell_type": "code",
   "execution_count": null,
   "metadata": {
    "collapsed": false
   },
   "outputs": [],
   "source": [
    "#first half\n",
    "R_2,Rss,Param=kernel_ridge_version(X_1_training,y_1_training,X_1_test,y_1_test,5)\n",
    "model_comparison = model_comparison.append({'Model':'Kernel Ridge', 'R^2': R_2,'Residual sum of squares':Rss,\n",
    "                                            'Best Parameters': Param,'Data_Range':1},ignore_index=True)"
   ]
  },
  {
   "cell_type": "code",
   "execution_count": null,
   "metadata": {
    "collapsed": true
   },
   "outputs": [],
   "source": [
    "def svm_version(X_tr,y_tr,X_te,y_te,f):\n",
    "    # Create linear SVR object\n",
    "    tuned_parameters = [{'kernel': ['rbf'], 'gamma': [1e-3, 1e-4],\n",
    "                     'C': [1, 10, 100, 1000]},\n",
    "                    {'kernel': ['linear'], 'C': [1, 10,20,30, 50,60,70,80,90,100,1000]}]\n",
    "    print(\"# Tuning hyper-parameters\")\n",
    "\n",
    "    clf = grid_search.GridSearchCV(svm.SVR(C=1), tuned_parameters, cv=TimeSeriesCV(len(y_tr),fold=f),n_jobs=-1)\n",
    "    clf.fit(X_tr, y_tr)\n",
    "    print(\"Best parameters set found on development set:\")\n",
    "    print(clf.best_params_)\n",
    "    print(\"Grid scores on development set:\")\n",
    "    for params, mean_score, scores in clf.grid_scores_:\n",
    "        print(\"%0.3f (+/-%0.03f) for %r\"\n",
    "              % (mean_score, scores.std() * 2, params))\n",
    "\n",
    "    print(\"The model is trained on the full development set.\")\n",
    "    print(\"The scores are computed on the full evaluation set.\")\n",
    "    print('R^2: %.2f' % clf.score(X_te,  y_te))\n",
    "    rss=np.mean((clf.predict(X_te) - y_te) ** 2)\n",
    "    print(\"Residual sum of squares: %.2f\" % rss)\n",
    "    return (clf.score(X_te,  y_te),rss,clf.best_params_)"
   ]
  },
  {
   "cell_type": "code",
   "execution_count": null,
   "metadata": {
    "collapsed": false
   },
   "outputs": [],
   "source": [
    "R_2,Rss,Param=svm_version(X_1_training,y_1_training,X_1_test,y_1_test,5)\n",
    "model_comparison = model_comparison.append({'Model':'SVM', 'R^2': R_2,'Residual sum of squares':Rss,\n",
    "                                            'Best Parameters': Param,'Data_Range':1},ignore_index=True)"
   ]
  },
  {
   "cell_type": "markdown",
   "metadata": {},
   "source": [
    "## look at daily changes since 2009"
   ]
  },
  {
   "cell_type": "code",
   "execution_count": null,
   "metadata": {
    "collapsed": false
   },
   "outputs": [],
   "source": [
    "\n",
    "daily_2009=df_daily['01/01/2009'::]['log_returns_close']\n",
    "fig=plt.figure(figsize=(18,12))\n",
    "ax1=fig.add_subplot(211)\n",
    "ax1.set_title('daily returns',fontsize=16)\n",
    "ax1=daily_2009.plot()\n",
    "ax2=plt.axhline(y=0,color='black')\n",
    "ax2=fig.add_subplot(212)\n",
    "ax2=pd.rolling_mean(daily_2009,30).plot()\n",
    "ax2=plt.axhline(y=0,color='black')"
   ]
  },
  {
   "cell_type": "code",
   "execution_count": null,
   "metadata": {
    "collapsed": false
   },
   "outputs": [],
   "source": [
    "fig=plt.figure(figsize=(18,6))\n",
    "ax1=fig.add_subplot(121)\n",
    "ax1=sm.graphics.tsa.plot_acf(daily_2009,lags=7,ax=ax1)\n",
    "ax2=fig.add_subplot(122)\n",
    "ax2=sm.graphics.tsa.plot_pacf(daily_2009,lags=7,ax=ax2)"
   ]
  },
  {
   "cell_type": "code",
   "execution_count": null,
   "metadata": {
    "collapsed": false
   },
   "outputs": [],
   "source": [
    "ACF=sm.tsa.stattools.acf(daily_2009, nlags=7)\n",
    "ACF"
   ]
  },
  {
   "cell_type": "markdown",
   "metadata": {},
   "source": [
    "There might be correlation in one day lag and 5 day lags. "
   ]
  },
  {
   "cell_type": "code",
   "execution_count": null,
   "metadata": {
    "collapsed": false
   },
   "outputs": [],
   "source": [
    "daily_2009_lag=np.zeros((len(daily_2009),7))\n",
    "for i in range(0,7):\n",
    "    daily_2009_lag[:,i]=daily_2009.shift(i+1)\n",
    "d09lag2=pd.DataFrame(daily_2009_lag)\n",
    "d09lag2.head(10)"
   ]
  },
  {
   "cell_type": "code",
   "execution_count": null,
   "metadata": {
    "collapsed": false
   },
   "outputs": [],
   "source": [
    "d09lag2.columns=['close_lg1','close_lg2','close_lg3','close_lg4','close_lg5','close_lg6','close_lg7']\n",
    "d09lag2=d09lag2.set_index(daily_2009.index)\n",
    "daily_2009[daily_2009.index<>d09lag2.index]\n",
    "#daily_2009[pd.isnull(daily_2009)==True]\n",
    "pd.DataFrame(daily_2009['01/02/2009':'01/09/2009'])\n"
   ]
  },
  {
   "cell_type": "code",
   "execution_count": null,
   "metadata": {
    "collapsed": false
   },
   "outputs": [],
   "source": [
    "d09lag2['01/02/2009':'01/09/2009']\n",
    "#d09lag2[pd.isnull(d09lag2).any(axis=1)]"
   ]
  },
  {
   "cell_type": "code",
   "execution_count": null,
   "metadata": {
    "collapsed": false
   },
   "outputs": [],
   "source": [
    "df_close_lags=pd.merge(pd.DataFrame(daily_2009),d09lag2, left_index=True, right_index=True)\n",
    "a=df_close_lags.corr()[[0]]\n",
    "a"
   ]
  },
  {
   "cell_type": "code",
   "execution_count": null,
   "metadata": {
    "collapsed": false
   },
   "outputs": [],
   "source": [
    "daily_2009_o=df_daily['01/01/2009'::]['log_returns_open']\n",
    "daily_2009_lag_o=np.zeros((len(daily_2009_o),7))\n",
    "for i in range(0,7):\n",
    "    daily_2009_lag_o[:,i]=daily_2009_o.shift(i+1)\n",
    "d09lag2_o=pd.DataFrame(daily_2009_lag_o)\n",
    "d09lag2_o.columns=['open_lg1','open_lg2','open_lg3','open_lg4','open_lg5','open_lg6','open_lg7']\n",
    "d09lag2_o=d09lag2_o.set_index(daily_2009_o.index)\n",
    "df_co_lags=pd.merge(pd.DataFrame(daily_2009_o),d09lag2_o, left_index=True, right_index=True)\n",
    "b=df_co_lags.corr()[[0]]\n",
    "b"
   ]
  },
  {
   "cell_type": "code",
   "execution_count": null,
   "metadata": {
    "collapsed": false
   },
   "outputs": [],
   "source": [
    "daily_2009_h=df_daily['01/01/2009'::]['log_returns_high']\n",
    "daily_2009_lag_h=np.zeros((len(daily_2009_h),7))\n",
    "for i in range(0,7):\n",
    "    daily_2009_lag_h[:,i]=daily_2009_h.shift(i+1)\n",
    "d09lag2_h=pd.DataFrame(daily_2009_lag_h)\n",
    "d09lag2_h.columns=['high_lg1','high_lg2','high_lg3','high_lg4','high_lg5','high_lg6','high_lg7']\n",
    "d09lag2_h=d09lag2_h.set_index(daily_2009_h.index)\n",
    "df_ch_lags=pd.merge(pd.DataFrame(daily_2009_h),d09lag2_h, left_index=True, right_index=True)\n",
    "c=df_ch_lags.corr()[[0]]\n",
    "c"
   ]
  },
  {
   "cell_type": "code",
   "execution_count": null,
   "metadata": {
    "collapsed": false
   },
   "outputs": [],
   "source": [
    "daily_2009_l=df_daily['01/01/2009'::]['log_returns_low']\n",
    "daily_2009_lag_l=np.zeros((len(daily_2009_l),7))\n",
    "for i in range(0,7):\n",
    "    daily_2009_lag_l[:,i]=daily_2009_l.shift(i+1)\n",
    "d09lag2_l=pd.DataFrame(daily_2009_lag_l)\n",
    "d09lag2_l.columns=['low_lg1','low_lg2','low_lg3','low_lg4','low_lg5','low_lg6','low_lg7']\n",
    "d09lag2_l=d09lag2_l.set_index(daily_2009_l.index)\n",
    "df_cl_lags=pd.merge(pd.DataFrame(daily_2009_l),d09lag2_l, left_index=True, right_index=True)\n",
    "d=df_cl_lags.corr()[[0]]\n",
    "d"
   ]
  },
  {
   "cell_type": "code",
   "execution_count": null,
   "metadata": {
    "collapsed": false
   },
   "outputs": [],
   "source": [
    "fig=plt.figure(figsize=(18,12))\n",
    "daily_2009['07/01/2012'::].plot(color=\"red\")\n",
    "daily_2009_o['07/01/2012'::].plot(color=\"blue\")\n",
    "daily_2009_h['07/01/2012'::].plot(color=\"green\")\n",
    "daily_2009_l['07/01/2012'::].plot(color=\"yellow\")\n",
    "plt.axhline(y=0,color='black')"
   ]
  },
  {
   "cell_type": "code",
   "execution_count": null,
   "metadata": {
    "collapsed": false
   },
   "outputs": [],
   "source": [
    "df_close_lags=pd.merge(pd.DataFrame(daily_2009),d09lag2, left_index=True, right_index=True)\n",
    "df_co_lags2=pd.merge(df_close_lags,d09lag2_o,left_index=True, right_index=True)\n",
    "df_coh_lags2=pd.merge(df_co_lags2,d09lag2_h,left_index=True, right_index=True)\n",
    "df_cohl_lags=pd.merge(df_coh_lags2,d09lag2_l, left_index=True, right_index=True)\n",
    "e=df_cohl_lags.corr()\n",
    "e"
   ]
  },
  {
   "cell_type": "markdown",
   "metadata": {},
   "source": [
    "### Try model building"
   ]
  },
  {
   "cell_type": "code",
   "execution_count": null,
   "metadata": {
    "collapsed": true
   },
   "outputs": [],
   "source": [
    "df_lag=np.zeros((len(df_daily),7))\n",
    "for i in range(0,7):\n",
    "    df_lag[:,i]=df3['signal_shift_returns'].shift(i)\n",
    "df_lag2=pd.DataFrame(df_lag)\n",
    "df_lag2.columns=['sr_lg1','sr_lg2','sr_lg3','sr_lg4','sr_lg5','sr_lg6','sr_lg7']\n",
    "df_lag2=df_lag2.set_index(df3.index)\n",
    "df_with_lags=pd.merge(df3,df_lag2,left_index=True,right_index=True,how='left')"
   ]
  },
  {
   "cell_type": "code",
   "execution_count": null,
   "metadata": {
    "collapsed": true
   },
   "outputs": [],
   "source": [
    "#First half\n",
    "X_1=df_lag2.loc['2012-01-13':'2013-03-31'].as_matrix()\n",
    "y_1=df3.loc['2012-01-13':'2013-03-31','spy_returns'].as_matrix()\n",
    "#Second half\n",
    "X_2=df_lag2.loc['2013-04-01':'2014-08-29'].as_matrix()\n",
    "y_2=df3.loc['2013-04-01':'2014-08-29','spy_returns'].as_matrix()\n",
    "#Testing sets\n",
    "X_1_test=X_1[-45:,:] #keep the last 30 days as testing\n",
    "y_1_test=y_1[-45:]\n",
    "X_2_test=X_2[-60:,:] #keep the last 30 days as testing\n",
    "y_2_test=y_2[-60:]\n",
    "#Training sets\n",
    "X_1_training=X_1[:-45,:] #keep the last 30 days as testing\n",
    "y_1_training=y_1[:-45]\n",
    "X_2_training=X_2[:-60:,:] #keep the last 30 days as testing\n",
    "y_2_training=y_2[:-60]"
   ]
  },
  {
   "cell_type": "code",
   "execution_count": null,
   "metadata": {
    "collapsed": true
   },
   "outputs": [],
   "source": [
    "columns=['Model','R^2','Residual sum of squares','Best Parameters','Data_Range']\n",
    "model_comparison=pd.DataFrame(columns=columns)"
   ]
  },
  {
   "cell_type": "code",
   "execution_count": null,
   "metadata": {
    "collapsed": true
   },
   "outputs": [],
   "source": [
    "def linear_version(X_tr,y_tr,X_te,y_te):\n",
    "    # Create linear regression object\n",
    "    regr = linear_model.LinearRegression()\n",
    "    # Train the model using the training sets\n",
    "    regr.fit(X_tr, y_tr)\n",
    "    rss=np.mean((regr.predict(X_te) - y_te) ** 2)\n",
    "    print(\"Residual sum of squares: %.2f\" % rss)\n",
    "    print('R^2: %.2f' % regr.score(X_te,  y_te))\n",
    "    return (regr.score(X_te,  y_te),rss,regr.coef_)"
   ]
  },
  {
   "cell_type": "code",
   "execution_count": null,
   "metadata": {
    "collapsed": true
   },
   "outputs": [],
   "source": [
    "#first half\n",
    "R_2,Rss,Param=linear_version(X_1_training,y_1_training,X_1_test,y_1_test)\n",
    "model_comparison = model_comparison.append({'Model':'linear', 'R^2': R_2,'Residual sum of squares':Rss,\n",
    "                                            'Best Parameters': Param,'Data_Range':1},ignore_index=True)"
   ]
  },
  {
   "cell_type": "code",
   "execution_count": null,
   "metadata": {
    "collapsed": true
   },
   "outputs": [],
   "source": [
    "lass TimeSeriesCV():\n",
    "    def __init__(self,n,fold):\n",
    "        self.n=n\n",
    "        self.fold=fold\n",
    "    def __iter__(self):\n",
    "        if self.n<(self.fold+1):\n",
    "            print(\"too many folds\")\n",
    "        m=self.n%(self.fold+1)\n",
    "        chunk=np.arange(self.n)#entire series\n",
    "        size=(self.n-m)/(self.fold+1)#size of each fold, size of the first fold is size+m\n",
    "        for i in np.arange(self.fold):\n",
    "            train_index = chunk[0:(size*(i+1)+m)]\n",
    "            test_index = chunk[(size*(i+1)+m):(size*(i+2)+m)]\n",
    "            yield train_index, test_index\n",
    "    def __len__(self):\n",
    "        return self.fold "
   ]
  },
  {
   "cell_type": "code",
   "execution_count": null,
   "metadata": {
    "collapsed": true
   },
   "outputs": [],
   "source": [
    "def kernel_ridge_version(X_tr,y_tr,X_te,y_te):\n",
    "    # Create linear regression object\n",
    "\n",
    "    tuned_parameters = [{'kernel':['linear'],'alpha': [0.001,0.05,0.01,0.1,1]},\n",
    "                         {'kernel':['rbf'],'alpha':[0.001,0.05,0.01,0.1,1],'gamma':[0.1,1,10,100,500]}]\n",
    "    print(\"# Tuning hyper-parameters\")\n",
    "    clf = grid_search.GridSearchCV(kernel_ridge.KernelRidge(alpha=1, coef0=1, degree=3, gamma=None, kernel='linear',\n",
    "            kernel_params=None), tuned_parameters, cv=TimeSeriesCV(len(y_tr),fold=5))\n",
    "    clf.fit(X_tr, y_tr)\n",
    "    print(\"Best parameters set found on development set:\")\n",
    "    print(clf.best_params_)\n",
    "    print(\"Grid scores on development set:\")\n",
    "    for params, mean_score, scores in clf.grid_scores_:\n",
    "        print(\"%0.3f (+/-%0.03f) for %r\"\n",
    "              % (mean_score, scores.std() * 2, params))\n",
    "\n",
    "    print(\"The model is trained on the full development set.\")\n",
    "    print(\"The scores are computed on the full evaluation set.\")\n",
    "    print('R^2: %.2f' % clf.score(X_te,  y_te))\n",
    "    rss=np.mean((clf.predict(X_te) - y_te) ** 2)\n",
    "    print(\"Residual sum of squares: %.2f\" % rss)\n",
    "    return (clf.score(X_te,  y_te),rss,clf.best_params_)"
   ]
  },
  {
   "cell_type": "code",
   "execution_count": null,
   "metadata": {
    "collapsed": true
   },
   "outputs": [],
   "source": [
    "#first half\n",
    "R_2,Rss,Param=kernel_ridge_version(X_1_training,y_1_training,X_1_test,y_1_test)\n",
    "model_comparison = model_comparison.append({'Model':'Kernel Ridge', 'R^2': R_2,'Residual sum of squares':Rss,\n",
    "                                            'Best Parameters': Param,'Data_Range':1},ignore_index=True)"
   ]
  },
  {
   "cell_type": "code",
   "execution_count": null,
   "metadata": {
    "collapsed": true
   },
   "outputs": [],
   "source": [
    "def svm_version(X_tr,y_tr,X_te,y_te):\n",
    "    # Create linear SVR object\n",
    "    tuned_parameters = [{'kernel': ['rbf'], 'gamma': [1e-3, 1e-4],\n",
    "                     'C': [1, 10, 100, 1000]},\n",
    "                    {'kernel': ['linear'], 'C': [1, 10,20,30, 50,60,70,80,90,100,1000]}]\n",
    "    print(\"# Tuning hyper-parameters\")\n",
    "\n",
    "    clf = grid_search.GridSearchCV(svm.SVR(C=1), tuned_parameters, cv=TimeSeriesCV(len(y_tr),fold=5),n_jobs=-1)\n",
    "    clf.fit(X_tr, y_tr)\n",
    "    print(\"Best parameters set found on development set:\")\n",
    "    print(clf.best_params_)\n",
    "    print(\"Grid scores on development set:\")\n",
    "    for params, mean_score, scores in clf.grid_scores_:\n",
    "        print(\"%0.3f (+/-%0.03f) for %r\"\n",
    "              % (mean_score, scores.std() * 2, params))\n",
    "\n",
    "    print(\"The model is trained on the full development set.\")\n",
    "    print(\"The scores are computed on the full evaluation set.\")\n",
    "    print('R^2: %.2f' % clf.score(X_te,  y_te))\n",
    "    rss=np.mean((clf.predict(X_te) - y_te) ** 2)\n",
    "    print(\"Residual sum of squares: %.2f\" % rss)\n",
    "    return (clf.score(X_te,  y_te),rss,clf.best_params_)"
   ]
  }
 ],
 "metadata": {
  "kernelspec": {
   "display_name": "Python 2",
   "language": "python",
   "name": "python2"
  },
  "language_info": {
   "codemirror_mode": {
    "name": "ipython",
    "version": 2
   },
   "file_extension": ".py",
   "mimetype": "text/x-python",
   "name": "python",
   "nbconvert_exporter": "python",
   "pygments_lexer": "ipython2",
   "version": "2.7.11"
  }
 },
 "nbformat": 4,
 "nbformat_minor": 0
}
