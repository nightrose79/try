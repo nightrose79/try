{
 "cells": [
  {
   "cell_type": "code",
   "execution_count": 77,
   "metadata": {
    "collapsed": true
   },
   "outputs": [],
   "source": [
    "import numpy as np\n",
    "class TimeSeries_WF():\n",
    "    \n",
    "    def __init__(self,n,training,testing):\n",
    "        self.n=n\n",
    "        self.testing=testing\n",
    "        self.training=training\n",
    "        \n",
    "    def __iter__(self):\n",
    "#        if self.n<(self.fold+1):\n",
    "#            print(\"too many folds\")\n",
    "        m=(self.n-self.training)%(self.testing) #if there are leftover observations, add to the first training set\n",
    "        print('m is',m)\n",
    "        series=np.arange(self.n)#entire series\n",
    "        fold=(self.n-self.training-m)/(self.testing)\n",
    "# size=(self.n-m)/(self.fold+1)#size of each fold, size of the first fold is size+m\n",
    "        for i in np.arange(fold):\n",
    "            if i==0:\n",
    "                train_index = series[0:(m+self.training)]\n",
    "            else:\n",
    "                train_index = series[(self.testing*i+m):(self.testing*(i)+m+self.training)]\n",
    "            test_index = series[(self.testing*(i)+m+self.training):(self.testing*(i+1)+m+self.training)]\n",
    "            yield train_index, test_index\n",
    "    def __len__(self):\n",
    "        return self.fold "
   ]
  },
  {
   "cell_type": "code",
   "execution_count": 79,
   "metadata": {
    "collapsed": false
   },
   "outputs": [
    {
     "name": "stdout",
     "output_type": "stream",
     "text": [
      "('m is', 0)\n",
      "(array([0, 1, 2]), array([3, 4]))\n",
      "(array([2, 3, 4]), array([5, 6]))\n",
      "(array([4, 5, 6]), array([7, 8]))\n",
      "(array([6, 7, 8]), array([ 9, 10]))\n",
      "(array([ 8,  9, 10]), array([11, 12]))\n",
      "(array([10, 11, 12]), array([13, 14]))\n"
     ]
    }
   ],
   "source": [
    "index=TimeSeries_WF(15,3,2)\n",
    "for n in index:\n",
    "    print n"
   ]
  },
  {
   "cell_type": "code",
   "execution_count": 84,
   "metadata": {
    "collapsed": false
   },
   "outputs": [
    {
     "data": {
      "text/plain": [
       "instance"
      ]
     },
     "execution_count": 84,
     "metadata": {},
     "output_type": "execute_result"
    }
   ],
   "source": [
    "np.arange(11)[(1):(3)]\n",
    "type(index)"
   ]
  }
 ],
 "metadata": {
  "kernelspec": {
   "display_name": "Python 2",
   "language": "python",
   "name": "python2"
  },
  "language_info": {
   "codemirror_mode": {
    "name": "ipython",
    "version": 2
   },
   "file_extension": ".py",
   "mimetype": "text/x-python",
   "name": "python",
   "nbconvert_exporter": "python",
   "pygments_lexer": "ipython2",
   "version": "2.7.11"
  }
 },
 "nbformat": 4,
 "nbformat_minor": 0
}
