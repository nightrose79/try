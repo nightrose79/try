{
 "cells": [
  {
   "cell_type": "markdown",
   "metadata": {},
   "source": [
    "## VWAP Momentum"
   ]
  },
  {
   "cell_type": "code",
   "execution_count": 26,
   "metadata": {
    "collapsed": false
   },
   "outputs": [],
   "source": [
    "from pyalgotrade import strategy\n",
    "from pyalgotrade import plotter\n",
    "from pyalgotrade.tools import yahoofinance\n",
    "from pyalgotrade.barfeed import yahoofeed\n",
    "from pyalgotrade.technical import vwap\n",
    "from pyalgotrade.stratanalyzer import returns\n",
    "from pyalgotrade.stratanalyzer import sharpe\n",
    "from pyalgotrade.stratanalyzer import drawdown\n",
    "from pyalgotrade.stratanalyzer import trades\n",
    "import VWAPM\n",
    "\n",
    "import matplotlib.pyplot as plt \n",
    "#%matplotlib inline\n",
    "\n",
    "# Load the yahoo feed from the CSV file\n",
    "feed = yahoofeed.Feed()\n",
    "feed.addBarsFromCSV(\"orcl\", \"data_daily.csv\")\n",
    "\n",
    "#def main(plot):\n",
    "instrument = \"orcl\"\n",
    "vwapWindowSize = 5\n",
    "threshold = 0.01\n",
    "plot=True\n",
    "\n",
    "# Download the bars.\n",
    "#    feed = yahoofinance.build_feed([instrument], 2011, 2012, \".\")\n",
    "\n",
    "strat = VWAPM.VWAPMomentum(feed, instrument, vwapWindowSize, threshold)\n",
    "strat.run()\n",
    "\n",
    "sharpeRatioAnalyzer = sharpe.SharpeRatio()\n",
    "strat.attachAnalyzer(sharpeRatioAnalyzer)\n",
    "# Attach different analyzers to a strategy before executing it.\n",
    "retAnalyzer = returns.Returns()\n",
    "strat.attachAnalyzer(retAnalyzer)\n",
    "#sharpeRatioAnalyzer = sharpe.SharpeRatio()\n",
    "#strat.attachAnalyzer(sharpeRatioAnalyzer)\n",
    "drawDownAnalyzer = drawdown.DrawDown()\n",
    "strat.attachAnalyzer(drawDownAnalyzer)\n",
    "tradesAnalyzer = trades.Trades()\n",
    "strat.attachAnalyzer(tradesAnalyzer)\n",
    "\n",
    "if plot:\n",
    "    plt = plotter.StrategyPlotter(strat, True, False, True)\n",
    "    plt.getInstrumentSubplot(instrument).addDataSeries(\"vwap\", strat.getVWAP())\n",
    "\n",
    "plt.plot()\n"
   ]
  },
  {
   "cell_type": "markdown",
   "metadata": {},
   "source": [
    "## Bollinger Bands"
   ]
  },
  {
   "cell_type": "code",
   "execution_count": 13,
   "metadata": {
    "collapsed": false
   },
   "outputs": [
    {
     "name": "stderr",
     "output_type": "stream",
     "text": [
      "DEBUG:broker.backtesting:Not enough cash to fill orcl order [19] for 2051 share/s\n",
      "1996-01-17 00:00:00 broker.backtesting [DEBUG] Not enough cash to fill orcl order [19] for 2051 share/s\n",
      "DEBUG:broker.backtesting:Not enough cash to fill orcl order [20] for 2055 share/s\n",
      "1996-01-18 00:00:00 broker.backtesting [DEBUG] Not enough cash to fill orcl order [20] for 2055 share/s\n"
     ]
    },
    {
     "name": "stdout",
     "output_type": "stream",
     "text": [
      "Sharpe ratio: -0.60\n"
     ]
    }
   ],
   "source": [
    "from pyalgotrade import strategy\n",
    "from pyalgotrade import plotter\n",
    "from pyalgotrade.tools import yahoofinance\n",
    "from pyalgotrade.barfeed import yahoofeed\n",
    "from pyalgotrade.technical import bollinger\n",
    "from pyalgotrade.stratanalyzer import sharpe\n",
    "\n",
    "\n",
    "class BBands(strategy.BacktestingStrategy):\n",
    "    def __init__(self, feed, instrument, bBandsPeriod):\n",
    "        strategy.BacktestingStrategy.__init__(self, feed)\n",
    "        self.__instrument = instrument\n",
    "        self.__bbands = bollinger.BollingerBands(feed[instrument].getCloseDataSeries(), bBandsPeriod, 2)\n",
    "\n",
    "    def getBollingerBands(self):\n",
    "        return self.__bbands\n",
    "\n",
    "    def onBars(self, bars):\n",
    "        lower = self.__bbands.getLowerBand()[-1]\n",
    "        upper = self.__bbands.getUpperBand()[-1]\n",
    "        if lower is None:\n",
    "            return\n",
    "\n",
    "        shares = self.getBroker().getShares(self.__instrument)\n",
    "        bar = bars[self.__instrument]\n",
    "        if shares == 0 and bar.getClose() < lower:\n",
    "            sharesToBuy = int(self.getBroker().getCash(False) / bar.getClose())\n",
    "            self.marketOrder(self.__instrument, sharesToBuy)\n",
    "        elif shares > 0 and bar.getClose() > upper:\n",
    "            self.marketOrder(self.__instrument, -1*shares)\n",
    "\n",
    "\n",
    "def main(plot):\n",
    "    instrument = \"orcl\"\n",
    "    bBandsPeriod = 40\n",
    "    \n",
    "    feed = yahoofeed.Feed()\n",
    "    feed.addBarsFromCSV(\"orcl\", \"data_daily.csv\")\n",
    "    # Load the yahoo feed from the CSV file\n",
    "#    feed = yahoofeed.Feed()\n",
    "#    feed.addBarsFromCSV(\"orcl\", \"/home/nightrose/Documents/Github/try/xyz/data_90_96.csv.csv\")\n",
    "    # Download the bars.\n",
    "#    feed = yahoofinance.build_feed([instrument], 2011, 2012, \".\")\n",
    "\n",
    "    strat = BBands(feed, instrument, bBandsPeriod)\n",
    "    sharpeRatioAnalyzer = sharpe.SharpeRatio()\n",
    "    strat.attachAnalyzer(sharpeRatioAnalyzer)\n",
    "\n",
    "    if plot:\n",
    "        plt = plotter.StrategyPlotter(strat, True, True, True)\n",
    "        plt.getInstrumentSubplot(instrument).addDataSeries(\"upper\", strat.getBollingerBands().getUpperBand())\n",
    "        plt.getInstrumentSubplot(instrument).addDataSeries(\"middle\", strat.getBollingerBands().getMiddleBand())\n",
    "        plt.getInstrumentSubplot(instrument).addDataSeries(\"lower\", strat.getBollingerBands().getLowerBand())\n",
    "\n",
    "    strat.run()\n",
    "    print \"Sharpe ratio: %.2f\" % sharpeRatioAnalyzer.getSharpeRatio(0.05)\n",
    "\n",
    "    if plot:\n",
    "        plt.plot()\n",
    "\n",
    "\n",
    "if __name__ == \"__main__\":\n",
    "    main(True)\n"
   ]
  },
  {
   "cell_type": "markdown",
   "metadata": {},
   "source": [
    "## SMA Crossover"
   ]
  },
  {
   "cell_type": "code",
   "execution_count": null,
   "metadata": {
    "collapsed": false
   },
   "outputs": [
    {
     "name": "stderr",
     "output_type": "stream",
     "text": [
      "INFO:strategy:Final portfolio value: $871219.61\n",
      "1996-10-30 00:00:00 strategy [INFO] Final portfolio value: $871219.61\n"
     ]
    }
   ],
   "source": [
    "from pyalgotrade import plotter\n",
    "from pyalgotrade.barfeed import yahoofeed\n",
    "from pyalgotrade.stratanalyzer import returns\n",
    "import sma_crossover\n",
    "import matplotlib.pyplot as plt \n",
    "#%matplotlib inline\n",
    "# Load the yahoo feed from the CSV file\n",
    "feed = yahoofeed.Feed()\n",
    "feed.addBarsFromCSV(\"orcl\", \"data_96_3_10.csv\")\n",
    "\n",
    "# Evaluate the strategy with the feed's bars.\n",
    "myStrategy = sma_crossover.SMACrossOver(feed, \"orcl\", 20)\n",
    "\n",
    "# Attach a returns analyzers to the strategy.\n",
    "returnsAnalyzer = returns.Returns()\n",
    "myStrategy.attachAnalyzer(returnsAnalyzer)\n",
    "\n",
    "# Attach the plotter to the strategy.\n",
    "plt= plotter.StrategyPlotter(myStrategy)\n",
    "# Include the SMA in the instrument's subplot to get it displayed along with the closing prices.\n",
    "plt.getInstrumentSubplot(\"orcl\").addDataSeries(\"SMA\", myStrategy.getSMA())\n",
    "# Plot the simple returns on each bar.\n",
    "plt.getOrCreateSubplot(\"returns\").addDataSeries(\"Simple returns\", returnsAnalyzer.getReturns())\n",
    "\n",
    "# Run the strategy.\n",
    "myStrategy.run()\n",
    "myStrategy.info(\"Final portfolio value: $%.2f\" % myStrategy.getResult())\n",
    "\n",
    "# Plot the strategy.\n",
    "plt.plot()"
   ]
  }
 ],
 "metadata": {
  "kernelspec": {
   "display_name": "Python 2",
   "language": "python",
   "name": "python2"
  },
  "language_info": {
   "codemirror_mode": {
    "name": "ipython",
    "version": 2
   },
   "file_extension": ".py",
   "mimetype": "text/x-python",
   "name": "python",
   "nbconvert_exporter": "python",
   "pygments_lexer": "ipython2",
   "version": "2.7.11"
  }
 },
 "nbformat": 4,
 "nbformat_minor": 0
}
